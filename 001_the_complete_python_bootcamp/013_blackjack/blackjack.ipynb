{
 "cells": [
  {
   "cell_type": "markdown",
   "metadata": {},
   "source": [
    "# Blackjack"
   ]
  },
  {
   "cell_type": "code",
   "execution_count": 3,
   "metadata": {},
   "outputs": [],
   "source": [
    "import random\n",
    "\n",
    "suits = ('Hearts', 'Diamonds', 'Spades', 'Clubs')\n",
    "ranks = ('Two', 'Three', 'Four', 'Five', 'Six', 'Seven', 'Eight', 'Nine', 'Ten', 'Jack', 'Queen', 'King', 'Ace')\n",
    "values = {'Two':2, 'Three':3, 'Four':4, 'Five':5, 'Six':6, 'Seven':7, 'Eight':8, \n",
    "            'Nine':9, 'Ten':10, 'Jack':10, 'Queen':10, 'King':10, 'Ace':11}\n",
    "\n",
    "playing = True"
   ]
  },
  {
   "cell_type": "code",
   "execution_count": 4,
   "metadata": {},
   "outputs": [],
   "source": [
    "class Card:\n",
    "    def __init__(self, suit, rank):\n",
    "        self.suit = suit\n",
    "        self.rank = rank\n",
    "\n",
    "    def __str__(self):\n",
    "        return f\"{self.rank} of {self.suit}\""
   ]
  },
  {
   "cell_type": "code",
   "execution_count": 7,
   "metadata": {},
   "outputs": [],
   "source": [
    "class Deck:\n",
    "    def __init__(self):\n",
    "        self.deck = []\n",
    "        for suit in suits:\n",
    "            for rank in ranks:\n",
    "                self.deck.append(Card(suit, rank))\n",
    "\n",
    "    def __str__(self):\n",
    "        deck_comp = ''\n",
    "        for card in self.deck:\n",
    "            deck_comp += '\\n' + card.__str__()\n",
    "        return f\"The deck has: {deck_comp}\"\n",
    "\n",
    "    def shuffle(self):\n",
    "        random.shuffle(self.deck)\n",
    "\n",
    "    def deal(self):\n",
    "        return self.deck.pop()"
   ]
  },
  {
   "cell_type": "code",
   "execution_count": 9,
   "metadata": {},
   "outputs": [
    {
     "name": "stdout",
     "output_type": "stream",
     "text": [
      "The deck has: \n",
      "Six of Hearts\n",
      "Nine of Clubs\n",
      "Four of Diamonds\n",
      "Eight of Diamonds\n",
      "Two of Clubs\n",
      "King of Diamonds\n",
      "Two of Hearts\n",
      "Six of Spades\n",
      "Three of Spades\n",
      "Seven of Hearts\n",
      "Five of Clubs\n",
      "Jack of Hearts\n",
      "King of Spades\n",
      "Queen of Clubs\n",
      "Ten of Diamonds\n",
      "Ten of Spades\n",
      "Seven of Spades\n",
      "Jack of Diamonds\n",
      "Nine of Spades\n",
      "Six of Diamonds\n",
      "Two of Diamonds\n",
      "Seven of Clubs\n",
      "Five of Diamonds\n",
      "Nine of Hearts\n",
      "Seven of Diamonds\n",
      "Two of Spades\n",
      "Five of Spades\n",
      "King of Clubs\n",
      "Three of Hearts\n",
      "Ace of Spades\n",
      "Ace of Hearts\n",
      "Four of Hearts\n",
      "Three of Diamonds\n",
      "Jack of Spades\n",
      "Eight of Clubs\n",
      "Ten of Clubs\n",
      "Ace of Clubs\n",
      "Four of Clubs\n",
      "Eight of Hearts\n",
      "Nine of Diamonds\n",
      "Eight of Spades\n",
      "Queen of Spades\n",
      "Three of Clubs\n",
      "Five of Hearts\n",
      "King of Hearts\n",
      "Ten of Hearts\n",
      "Ace of Diamonds\n",
      "Queen of Diamonds\n",
      "Four of Spades\n",
      "Jack of Clubs\n",
      "Six of Clubs\n",
      "Queen of Hearts\n"
     ]
    }
   ],
   "source": [
    "test_deck = Deck()\n",
    "test_deck.shuffle()\n",
    "print(test_deck)"
   ]
  },
  {
   "cell_type": "code",
   "execution_count": 13,
   "metadata": {},
   "outputs": [],
   "source": [
    "class Hand:\n",
    "    def __init__(self):\n",
    "        self.cards = []\n",
    "        self.value = 0\n",
    "        self.aces = 0\n",
    "\n",
    "    def add_card(self, card):\n",
    "        self.cards.append(card)\n",
    "        self.value += values[card.rank]\n",
    "\n",
    "        if card.rank == 'Ace':\n",
    "            self.aces += 1\n",
    "\n",
    "    def adjust_for_ace(self):\n",
    "        while self.value > 21 and self.aces:\n",
    "            self.value -= 10\n",
    "            self.aces -= 1"
   ]
  },
  {
   "cell_type": "code",
   "execution_count": 14,
   "metadata": {},
   "outputs": [
    {
     "name": "stdout",
     "output_type": "stream",
     "text": [
      "Five of Diamonds\n",
      "5\n"
     ]
    }
   ],
   "source": [
    "test_deck = Deck()\n",
    "test_deck.shuffle()\n",
    "\n",
    "test_player = Hand()\n",
    "pulled_card = test_deck.deal()\n",
    "print(pulled_card)\n",
    "test_player.add_card(pulled_card)\n",
    "print(test_player.value)"
   ]
  },
  {
   "cell_type": "code",
   "execution_count": 15,
   "metadata": {},
   "outputs": [
    {
     "data": {
      "text/plain": [
       "14"
      ]
     },
     "execution_count": 15,
     "metadata": {},
     "output_type": "execute_result"
    }
   ],
   "source": [
    "test_player.add_card(test_deck.deal())\n",
    "test_player.value"
   ]
  },
  {
   "cell_type": "code",
   "execution_count": 16,
   "metadata": {},
   "outputs": [],
   "source": [
    "class Chips:\n",
    "    def __init__(self, total=100):\n",
    "        self.total = total\n",
    "        self.bet = 0\n",
    "\n",
    "    def win_bet(self):\n",
    "        self.total += self.bet\n",
    "\n",
    "    def lose_bet(self):\n",
    "        self.total -= self.bet"
   ]
  },
  {
   "cell_type": "code",
   "execution_count": 17,
   "metadata": {},
   "outputs": [],
   "source": [
    "def take_bet(chips):\n",
    "    while True:\n",
    "        try:\n",
    "            chips.bet = int(input(\"How many chips would you like to bet? \"))\n",
    "        except:\n",
    "            print(\"Sorry, please provide an integer\")\n",
    "        else:\n",
    "            if chips.bet > chips.total:\n",
    "                print(\"Sorry, you do not have enough chips! You have: {}\".format(chips.total))\n",
    "            else:\n",
    "                break"
   ]
  },
  {
   "cell_type": "code",
   "execution_count": 18,
   "metadata": {},
   "outputs": [],
   "source": [
    "def hit(deck, hand):\n",
    "    single_card = deck.deal()\n",
    "    hand.add_card(single_card)\n",
    "    hand.adjust_for_ace()"
   ]
  },
  {
   "cell_type": "code",
   "execution_count": 20,
   "metadata": {},
   "outputs": [],
   "source": [
    "def hit_or_stand(deck, hand):\n",
    "    global playing\n",
    "\n",
    "    while True:\n",
    "        x = input(\"Hit or Stand? Enter h or s \")\n",
    "        if x[0].lower() == 'h':\n",
    "            hit(deck, hand)\n",
    "        elif x[0].lower() == 's':\n",
    "            print(\"Player Stands Dealer's Turn\")\n",
    "            playing = False\n",
    "        else:\n",
    "            print(\"Sorry, I did not understand that. Please enter h or s only!\")\n",
    "            continue\n",
    "        break"
   ]
  },
  {
   "cell_type": "code",
   "execution_count": 21,
   "metadata": {},
   "outputs": [],
   "source": [
    "def show_some(player, dealer):\n",
    "    # Show only ONE of the dealer's cards\n",
    "    print(\"\\n Dealer's Hand: \")\n",
    "    print(\"First card hidden!\")\n",
    "    print(dealer.cards[1])\n",
    "\n",
    "    # Show all (2 cards) of the player's hand/cards\n",
    "    print(\"\\n Player's Hand: \")\n",
    "    for card in player.cards:\n",
    "        print(card)\n",
    "\n",
    "def show_all(player, dealer):\n",
    "    # show all the dealer's cards\n",
    "    print(\"\\n Dealers's Hand: \", *dealer.cards, sep='\\n')\n",
    "    # *dealer.cards same as\n",
    "    # for card in dealer.cards:\n",
    "    #     print(card)\n",
    "    \n",
    "    # calculate and display the value (Jack + King == 20)\n",
    "    print(f\"Value of Dealer's hand is: {dealer.value}\")\n",
    "\n",
    "    # show all the player's cards\n",
    "    print(\"\\n Player's Hand: \")\n",
    "    for card in player.cards:\n",
    "        print(card)\n",
    "\n",
    "    print(f\"Value of Player's hand is: {player.value}\")"
   ]
  },
  {
   "cell_type": "code",
   "execution_count": 23,
   "metadata": {},
   "outputs": [],
   "source": [
    "def player_busts(player, dealer, chips):\n",
    "    print(\"BUST PLAYER!\")\n",
    "    chips.lose_bet()\n",
    "\n",
    "def player_wins(player, dealer, chips):\n",
    "    print(\"PLAYER WINS!\")\n",
    "    chips.win_bet()\n",
    "\n",
    "def dealer_busts(player, dealer, chips):\n",
    "    print(\"PLAYER WINS! DEALER BUSTED!\")\n",
    "    chips.win_bet()\n",
    "\n",
    "def dealer_wins(player, dealer, chips):\n",
    "    print(\"DEALER WINS!\")\n",
    "    chips.lose_bet()\n",
    "\n",
    "def push(player, dealer):\n",
    "    print(\"Dealer and Player tie! PUSH\")"
   ]
  },
  {
   "cell_type": "code",
   "execution_count": 25,
   "metadata": {},
   "outputs": [
    {
     "name": "stdout",
     "output_type": "stream",
     "text": [
      "Welcome to Blackjack\n",
      "\n",
      " Dealer's Hand: \n",
      "First card hidden!\n",
      "Three of Clubs\n",
      "\n",
      " Player's Hand: \n",
      "Nine of Hearts\n",
      "Jack of Spades\n",
      "\n",
      " Dealers's Hand: \n",
      "Ace of Hearts\n",
      "Three of Clubs\n",
      "Two of Diamonds\n",
      "Nine of Spades\n",
      "Ace of Spades\n",
      "Five of Hearts\n",
      "Value of Dealer's hand is: 21\n",
      "\n",
      " Player's Hand: \n",
      "Nine of Hearts\n",
      "Jack of Spades\n",
      "Value of Player's hand is: 19\n",
      "DEALER WINS!\n",
      "\n",
      " Player total chips are at: 99\n",
      "Welcome to Blackjack\n",
      "\n",
      " Dealer's Hand: \n",
      "First card hidden!\n",
      "Nine of Spades\n",
      "\n",
      " Player's Hand: \n",
      "Four of Spades\n",
      "Three of Hearts\n",
      "\n",
      " Dealer's Hand: \n",
      "First card hidden!\n",
      "Nine of Spades\n",
      "\n",
      " Player's Hand: \n",
      "Four of Spades\n",
      "Three of Hearts\n",
      "Ten of Clubs\n",
      "Player Stands Dealer's Turn\n",
      "\n",
      " Dealer's Hand: \n",
      "First card hidden!\n",
      "Nine of Spades\n",
      "\n",
      " Player's Hand: \n",
      "Four of Spades\n",
      "Three of Hearts\n",
      "Ten of Clubs\n",
      "\n",
      " Dealers's Hand: \n",
      "Two of Diamonds\n",
      "Nine of Spades\n",
      "Six of Spades\n",
      "Value of Dealer's hand is: 17\n",
      "\n",
      " Player's Hand: \n",
      "Four of Spades\n",
      "Three of Hearts\n",
      "Ten of Clubs\n",
      "Value of Player's hand is: 17\n",
      "Dealer and Player tie! PUSH\n",
      "\n",
      " Player total chips are at: 100\n",
      "Thank you for playing!\n"
     ]
    }
   ],
   "source": [
    "while True:\n",
    "    print(\"Welcome to Blackjack\")\n",
    "\n",
    "    deck = Deck()\n",
    "    deck.shuffle()\n",
    "\n",
    "    player_hand = Hand()\n",
    "    player_hand.add_card(deck.deal())\n",
    "    player_hand.add_card(deck.deal())\n",
    "\n",
    "    dealer_hand = Hand()\n",
    "    dealer_hand.add_card(deck.deal())\n",
    "    dealer_hand.add_card(deck.deal())\n",
    "\n",
    "    player_chips = Chips()\n",
    "    take_bet(player_chips)\n",
    "\n",
    "    show_some(player_hand, dealer_hand)\n",
    "\n",
    "    while playing:\n",
    "        hit_or_stand(deck, player_hand)\n",
    "\n",
    "        show_some(player_hand, dealer_hand)\n",
    "\n",
    "        if player_hand.value > 21:\n",
    "            player_busts(player_hand, dealer_hand, player_chips)\n",
    "            break\n",
    "\n",
    "    if player_hand.value <= 21:\n",
    "        while dealer_hand.value < 17: # Soft 17 rule\n",
    "            hit(deck, dealer_hand)\n",
    "\n",
    "        show_all(player_hand, dealer_hand)\n",
    "\n",
    "        if dealer_hand.value > 21:\n",
    "            dealer_busts(player_hand, dealer_hand, player_chips)\n",
    "        elif dealer_hand.value > player_hand.value:\n",
    "            dealer_wins(player_hand, dealer_hand, player_chips)\n",
    "        elif dealer_hand.value < player_hand.value:\n",
    "            player_wins(player_hand, dealer_hand, player_chips)\n",
    "        else:\n",
    "            push(player_hand, dealer_hand)\n",
    "\n",
    "    print(\"\\n Player total chips are at: {}\".format(player_chips.total))\n",
    "    new_game = input(\"Would you like to play another hand? y/n\")\n",
    "    if new_game[0].lower() == 'y':\n",
    "        playing = True\n",
    "        continue\n",
    "    else:\n",
    "        print(\"Thank you for playing!\")\n",
    "        break\n"
   ]
  },
  {
   "cell_type": "code",
   "execution_count": null,
   "metadata": {},
   "outputs": [],
   "source": []
  }
 ],
 "metadata": {
  "kernelspec": {
   "display_name": "Python 3",
   "language": "python",
   "name": "python3"
  },
  "language_info": {
   "codemirror_mode": {
    "name": "ipython",
    "version": 3
   },
   "file_extension": ".py",
   "mimetype": "text/x-python",
   "name": "python",
   "nbconvert_exporter": "python",
   "pygments_lexer": "ipython3",
   "version": "3.10.14"
  }
 },
 "nbformat": 4,
 "nbformat_minor": 2
}
