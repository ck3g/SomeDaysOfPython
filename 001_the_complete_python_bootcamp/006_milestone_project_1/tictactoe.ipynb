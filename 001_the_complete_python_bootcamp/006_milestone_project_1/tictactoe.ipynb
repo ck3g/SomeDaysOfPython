{
 "cells": [
  {
   "cell_type": "markdown",
   "metadata": {},
   "source": [
    "# tic tac toe"
   ]
  },
  {
   "cell_type": "code",
   "execution_count": 88,
   "metadata": {},
   "outputs": [],
   "source": [
    "from IPython.display import clear_output\n",
    "clear_output()"
   ]
  },
  {
   "cell_type": "code",
   "execution_count": 12,
   "metadata": {},
   "outputs": [],
   "source": [
    "def player_selection():\n",
    "  correct_marker = False\n",
    "  player1_marker = 'O'\n",
    "  while not correct_marker:\n",
    "    player1_marker = input(\"Player1, select the marker 'X' or 'O': \")\n",
    "    if player1_marker in ['X', 'O']:\n",
    "      correct_marker = True\n",
    "\n",
    "  if player1_marker == 'X':\n",
    "    player2_marker = 'O'\n",
    "  else:\n",
    "    player2_marker = 'X'\n",
    "\n",
    "  return (player1_marker, player2_marker)"
   ]
  },
  {
   "cell_type": "code",
   "execution_count": 15,
   "metadata": {},
   "outputs": [],
   "source": [
    "p1_marker, p2_marker = player_selection()"
   ]
  },
  {
   "cell_type": "code",
   "execution_count": 16,
   "metadata": {},
   "outputs": [
    {
     "data": {
      "text/plain": [
       "('O', 'X')"
      ]
     },
     "execution_count": 16,
     "metadata": {},
     "output_type": "execute_result"
    }
   ],
   "source": [
    "p1_marker, p2_marker"
   ]
  },
  {
   "cell_type": "code",
   "execution_count": 62,
   "metadata": {},
   "outputs": [],
   "source": [
    "def clear_board():\n",
    "  return [' '] * 9\n",
    "\n",
    "current_board = clear_board()\n",
    "current_player1 = True"
   ]
  },
  {
   "cell_type": "code",
   "execution_count": 63,
   "metadata": {},
   "outputs": [
    {
     "data": {
      "text/plain": [
       "[' ', ' ', ' ', ' ', ' ', ' ', ' ', ' ', ' ']"
      ]
     },
     "execution_count": 63,
     "metadata": {},
     "output_type": "execute_result"
    }
   ],
   "source": [
    "current_board"
   ]
  },
  {
   "cell_type": "code",
   "execution_count": 96,
   "metadata": {},
   "outputs": [],
   "source": [
    "def move_selection(is_player1):\n",
    "  name = 'Player2'\n",
    "  if is_player1:\n",
    "    name = 'Player1'\n",
    "\n",
    "  correct_input = False\n",
    "  while not correct_input:\n",
    "    pos = input(f\"{name} make your move. Input a number from 1 to 9: \")\n",
    "    if pos.isdigit() and int(pos) in range(1, 10):\n",
    "      correct_input = True\n",
    "\n",
    "  return int(pos) - 1"
   ]
  },
  {
   "cell_type": "code",
   "execution_count": 22,
   "metadata": {},
   "outputs": [
    {
     "data": {
      "text/plain": [
       "1"
      ]
     },
     "execution_count": 22,
     "metadata": {},
     "output_type": "execute_result"
    }
   ],
   "source": [
    "pos = move_selection(True)\n",
    "pos"
   ]
  },
  {
   "cell_type": "code",
   "execution_count": 23,
   "metadata": {},
   "outputs": [],
   "source": [
    "def replay():\n",
    "    answer = input(\"Would you like to play again? [Yes/No]: \")\n",
    "    return answer.lower() == 'yes' or answer.lower() == 'y'"
   ]
  },
  {
   "cell_type": "code",
   "execution_count": 26,
   "metadata": {},
   "outputs": [
    {
     "data": {
      "text/plain": [
       "True"
      ]
     },
     "execution_count": 26,
     "metadata": {},
     "output_type": "execute_result"
    }
   ],
   "source": [
    "replay()"
   ]
  },
  {
   "cell_type": "code",
   "execution_count": 27,
   "metadata": {},
   "outputs": [],
   "source": [
    "def print_board(board):\n",
    "  print(\"{}|{}|{}\".format(board[0], board[1], board[2]))\n",
    "  print(\"-+-+-\")\n",
    "  print(\"{}|{}|{}\".format(board[3], board[4], board[5]))\n",
    "  print(\"-+-+-\")\n",
    "  print(\"{}|{}|{}\".format(board[6], board[7], board[8]))"
   ]
  },
  {
   "cell_type": "code",
   "execution_count": 64,
   "metadata": {},
   "outputs": [
    {
     "name": "stdout",
     "output_type": "stream",
     "text": [
      " | | \n",
      "-+-+-\n",
      " | | \n",
      "-+-+-\n",
      " | | \n"
     ]
    }
   ],
   "source": [
    "print_board(current_board)"
   ]
  },
  {
   "cell_type": "code",
   "execution_count": 35,
   "metadata": {},
   "outputs": [],
   "source": [
    "def update_board(board, pos, marker):\n",
    "  board[pos] = marker"
   ]
  },
  {
   "cell_type": "code",
   "execution_count": 92,
   "metadata": {},
   "outputs": [
    {
     "name": "stdout",
     "output_type": "stream",
     "text": [
      "O| | \n",
      "-+-+-\n",
      " |X| \n",
      "-+-+-\n",
      " | |X\n"
     ]
    }
   ],
   "source": [
    "current_board = clear_board()\n",
    "update_board(current_board, 4, 'X')\n",
    "update_board(current_board, 0, 'O')\n",
    "update_board(current_board, 8, 'X')\n",
    "print_board(current_board)"
   ]
  },
  {
   "cell_type": "code",
   "execution_count": 66,
   "metadata": {},
   "outputs": [
    {
     "data": {
      "text/plain": [
       "['O', ' ', ' ', ' ', 'X', ' ', ' ', ' ', ' ']"
      ]
     },
     "execution_count": 66,
     "metadata": {},
     "output_type": "execute_result"
    }
   ],
   "source": [
    "current_board"
   ]
  },
  {
   "cell_type": "code",
   "execution_count": 67,
   "metadata": {},
   "outputs": [],
   "source": [
    "current_board = clear_board()"
   ]
  },
  {
   "cell_type": "code",
   "execution_count": 68,
   "metadata": {},
   "outputs": [
    {
     "data": {
      "text/plain": [
       "[' ', ' ', ' ', ' ', ' ', ' ', ' ', ' ', ' ']"
      ]
     },
     "execution_count": 68,
     "metadata": {},
     "output_type": "execute_result"
    }
   ],
   "source": [
    "current_board"
   ]
  },
  {
   "cell_type": "code",
   "execution_count": 73,
   "metadata": {},
   "outputs": [],
   "source": [
    "def moves_exist(board):\n",
    "  for cell in board:\n",
    "    if cell == ' ':\n",
    "      return True\n",
    "    \n",
    "  return False\n",
    "\n"
   ]
  },
  {
   "cell_type": "code",
   "execution_count": 76,
   "metadata": {},
   "outputs": [
    {
     "data": {
      "text/plain": [
       "True"
      ]
     },
     "execution_count": 76,
     "metadata": {},
     "output_type": "execute_result"
    }
   ],
   "source": [
    "moves_exist(current_board)"
   ]
  },
  {
   "cell_type": "code",
   "execution_count": 77,
   "metadata": {},
   "outputs": [],
   "source": [
    "def has_winner(board):\n",
    "  possible_win_combinations = [\n",
    "    [0, 1, 2],\n",
    "    [3, 4, 5],\n",
    "    [6, 7, 8],\n",
    "    [0, 3, 6],\n",
    "    [1, 4, 7],\n",
    "    [2, 5, 8],\n",
    "    [0, 4, 8],\n",
    "    [2, 4, 6]\n",
    "  ]\n",
    "\n",
    "  for marker in ['X', 'O']:\n",
    "    for wc in possible_win_combinations:\n",
    "      if board[wc[0]] == board[wc[1]] == board[wc[2]] == marker:\n",
    "        return (True, marker)\n",
    "      \n",
    "  return (False, ' ')    "
   ]
  },
  {
   "cell_type": "code",
   "execution_count": 78,
   "metadata": {},
   "outputs": [
    {
     "data": {
      "text/plain": [
       "(False, ' ')"
      ]
     },
     "execution_count": 78,
     "metadata": {},
     "output_type": "execute_result"
    }
   ],
   "source": [
    "has_winner(current_board)"
   ]
  },
  {
   "cell_type": "code",
   "execution_count": 81,
   "metadata": {},
   "outputs": [
    {
     "data": {
      "text/plain": [
       "(True, 'O')"
      ]
     },
     "execution_count": 81,
     "metadata": {},
     "output_type": "execute_result"
    }
   ],
   "source": [
    "has_winner(['O', 'X', 'X', 'X', 'O', ' ', ' ',  ' ', 'O'])"
   ]
  },
  {
   "cell_type": "code",
   "execution_count": 84,
   "metadata": {},
   "outputs": [],
   "source": [
    "def is_tie(board):\n",
    "  has_moves = moves_exist(board)\n",
    "  won, _ = has_winner(board)\n",
    "\n",
    "  return not won and not has_moves\n"
   ]
  },
  {
   "cell_type": "code",
   "execution_count": 86,
   "metadata": {},
   "outputs": [
    {
     "data": {
      "text/plain": [
       "False"
      ]
     },
     "execution_count": 86,
     "metadata": {},
     "output_type": "execute_result"
    }
   ],
   "source": [
    "is_tie(current_board)"
   ]
  },
  {
   "cell_type": "code",
   "execution_count": 87,
   "metadata": {},
   "outputs": [
    {
     "data": {
      "text/plain": [
       "True"
      ]
     },
     "execution_count": 87,
     "metadata": {},
     "output_type": "execute_result"
    }
   ],
   "source": [
    "is_tie(['X', 'O', 'X', 'X', 'X', 'O', 'O', 'X', 'O'])"
   ]
  },
  {
   "cell_type": "code",
   "execution_count": 101,
   "metadata": {},
   "outputs": [],
   "source": [
    "def is_game_over(board):\n",
    "  won, _ = has_winner(board)\n",
    "  return won or is_tie(board) or not moves_exist(board)"
   ]
  },
  {
   "cell_type": "code",
   "execution_count": 106,
   "metadata": {},
   "outputs": [
    {
     "name": "stdout",
     "output_type": "stream",
     "text": [
      "X|X|X\n",
      "-+-+-\n",
      " | |O\n",
      "-+-+-\n",
      "O| | \n",
      "X won!\n"
     ]
    }
   ],
   "source": [
    "from IPython.display import clear_output\n",
    "clear_output()\n",
    "current_board = clear_board()\n",
    "current_player1 = True\n",
    "current_marker = ''\n",
    "\n",
    "while True:\n",
    "  clear_output()\n",
    "  print_board(current_board)\n",
    "\n",
    "  if current_marker == '':\n",
    "    p1_marker, p2_marker = player_selection()\n",
    "\n",
    "  current_marker = p1_marker\n",
    "  if not current_player1:\n",
    "    current_marker = p2_marker\n",
    "\n",
    "  pos = move_selection(current_player1)\n",
    "  update_board(current_board, pos, current_marker)\n",
    "  current_player1 = not current_player1\n",
    "\n",
    "  if is_game_over(current_board):\n",
    "    clear_output()\n",
    "    print_board(current_board)\n",
    "    won, win_marker = has_winner(current_board)\n",
    "\n",
    "    if won:\n",
    "      print(f\"{win_marker} won!\")\n",
    "    elif is_tie(current_board):\n",
    "      print(\"It is tie!\")\n",
    "    else:\n",
    "      print(\"That's weird!\")\n",
    "\n",
    "    if replay():\n",
    "      clear_output()\n",
    "      current_board = clear_board()\n",
    "      current_player1 = True\n",
    "      current_marker = ''\n",
    "    else:\n",
    "      break\n",
    "      "
   ]
  },
  {
   "cell_type": "code",
   "execution_count": null,
   "metadata": {},
   "outputs": [],
   "source": []
  }
 ],
 "metadata": {
  "kernelspec": {
   "display_name": "Python 3",
   "language": "python",
   "name": "python3"
  },
  "language_info": {
   "codemirror_mode": {
    "name": "ipython",
    "version": 3
   },
   "file_extension": ".py",
   "mimetype": "text/x-python",
   "name": "python",
   "nbconvert_exporter": "python",
   "pygments_lexer": "ipython3",
   "version": "3.10.14"
  }
 },
 "nbformat": 4,
 "nbformat_minor": 2
}
