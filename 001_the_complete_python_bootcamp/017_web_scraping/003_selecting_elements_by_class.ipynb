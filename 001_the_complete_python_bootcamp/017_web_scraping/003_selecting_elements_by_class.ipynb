{
 "cells": [
  {
   "cell_type": "markdown",
   "metadata": {},
   "source": [
    "# Grabbing elements by class"
   ]
  },
  {
   "cell_type": "code",
   "execution_count": 3,
   "metadata": {},
   "outputs": [],
   "source": [
    "import requests\n",
    "import bs4"
   ]
  },
  {
   "cell_type": "code",
   "execution_count": 8,
   "metadata": {},
   "outputs": [],
   "source": [
    "res = requests.get('https://de.wikipedia.org/wiki/Berlin')\n",
    "soup = bs4.BeautifulSoup(res.text, 'lxml')"
   ]
  },
  {
   "cell_type": "code",
   "execution_count": 9,
   "metadata": {},
   "outputs": [
    {
     "data": {
      "text/plain": [
       "[<span class=\"toctext\">Geographie</span>,\n",
       " <span class=\"toctext\">Lage</span>,\n",
       " <span class=\"toctext\">Gewässer und Erhebungen</span>,\n",
       " <span class=\"toctext\">Wälder und Parkanlagen</span>,\n",
       " <span class=\"toctext\">Zoos und Schutzgebiete</span>,\n",
       " <span class=\"toctext\">Klima</span>,\n",
       " <span class=\"toctext\">Stadtgliederung</span>,\n",
       " <span class=\"toctext\">Geschichte</span>,\n",
       " <span class=\"toctext\">Namensherkunft und erste Besiedlungen</span>,\n",
       " <span class=\"toctext\">Markgrafschaft und Kurfürstentum Brandenburg</span>,\n",
       " <span class=\"toctext\">Preußen und Deutsches Kaiserreich</span>,\n",
       " <span class=\"toctext\">Weimarer Republik und Groß-Berlin</span>,\n",
       " <span class=\"toctext\">Nationalsozialismus</span>,\n",
       " <span class=\"toctext\">Geteilte Stadt</span>,\n",
       " <span class=\"toctext\">Wiedervereinte Stadt</span>,\n",
       " <span class=\"toctext\">Bevölkerung</span>,\n",
       " <span class=\"toctext\">Einwohnerentwicklung</span>,\n",
       " <span class=\"toctext\">Bevölkerungsgruppen</span>,\n",
       " <span class=\"toctext\">Sprache</span>,\n",
       " <span class=\"toctext\">Religionen und Weltanschauungen</span>,\n",
       " <span class=\"toctext\">Persönlichkeiten</span>,\n",
       " <span class=\"toctext\">Politik</span>,\n",
       " <span class=\"toctext\">Deutsche Hauptstadt</span>,\n",
       " <span class=\"toctext\">Land Berlin</span>,\n",
       " <span class=\"toctext\">Wappen und Flaggen</span>,\n",
       " <span class=\"toctext\">Städtepartnerschaften</span>,\n",
       " <span class=\"toctext\">Polizei und Feuerwehr</span>,\n",
       " <span class=\"toctext\">Wirtschaft</span>,\n",
       " <span class=\"toctext\">Unternehmen</span>,\n",
       " <span class=\"toctext\">Tourismus</span>,\n",
       " <span class=\"toctext\">Gesundheitswirtschaft</span>,\n",
       " <span class=\"toctext\">Messe- &amp; Kongresswirtschaft</span>,\n",
       " <span class=\"toctext\">IT &amp; Kreativwirtschaft</span>,\n",
       " <span class=\"toctext\">Medien</span>,\n",
       " <span class=\"toctext\">Industrie &amp; Technologie</span>,\n",
       " <span class=\"toctext\">Handel &amp; Finanzwirtschaft</span>,\n",
       " <span class=\"toctext\">Infrastruktur</span>,\n",
       " <span class=\"toctext\">Öffentlicher Verkehr</span>,\n",
       " <span class=\"toctext\">Straßenverkehr</span>,\n",
       " <span class=\"toctext\">Fahrradverkehr</span>,\n",
       " <span class=\"toctext\">Flugverkehr</span>,\n",
       " <span class=\"toctext\">Binnenschifffahrt</span>,\n",
       " <span class=\"toctext\">Brücken</span>,\n",
       " <span class=\"toctext\">Wasserversorgung</span>,\n",
       " <span class=\"toctext\">Energieversorgung</span>,\n",
       " <span class=\"toctext\">Kommunikation</span>,\n",
       " <span class=\"toctext\">Wissenschaft und Bildung</span>,\n",
       " <span class=\"toctext\">Hochschulen</span>,\n",
       " <span class=\"toctext\">Forschung</span>,\n",
       " <span class=\"toctext\">Kinderbetreuung und Schulsystem</span>,\n",
       " <span class=\"toctext\">Bibliotheken</span>,\n",
       " <span class=\"toctext\">Kultur</span>,\n",
       " <span class=\"toctext\">Musik</span>,\n",
       " <span class=\"toctext\">Festspiele</span>,\n",
       " <span class=\"toctext\">Theater</span>,\n",
       " <span class=\"toctext\">Museen</span>,\n",
       " <span class=\"toctext\">Architektur</span>,\n",
       " <span class=\"toctext\">Sport</span>,\n",
       " <span class=\"toctext\">Freizeit</span>,\n",
       " <span class=\"toctext\">Küche</span>,\n",
       " <span class=\"toctext\">Berlin in der Kunst</span>,\n",
       " <span class=\"toctext\">Siehe auch</span>,\n",
       " <span class=\"toctext\">Literatur</span>,\n",
       " <span class=\"toctext\">Weblinks</span>,\n",
       " <span class=\"toctext\">Einzelnachweise</span>]"
      ]
     },
     "execution_count": 9,
     "metadata": {},
     "output_type": "execute_result"
    }
   ],
   "source": [
    "soup.select('.toctext')"
   ]
  },
  {
   "cell_type": "code",
   "execution_count": 11,
   "metadata": {},
   "outputs": [
    {
     "data": {
      "text/plain": [
       "'Geographie'"
      ]
     },
     "execution_count": 11,
     "metadata": {},
     "output_type": "execute_result"
    }
   ],
   "source": [
    "first_item = soup.select('.toctext')[0].text\n",
    "first_item"
   ]
  },
  {
   "cell_type": "code",
   "execution_count": 12,
   "metadata": {},
   "outputs": [
    {
     "name": "stdout",
     "output_type": "stream",
     "text": [
      "Geographie\n",
      "Lage\n",
      "Gewässer und Erhebungen\n",
      "Wälder und Parkanlagen\n",
      "Zoos und Schutzgebiete\n",
      "Klima\n",
      "Stadtgliederung\n",
      "Geschichte\n",
      "Namensherkunft und erste Besiedlungen\n",
      "Markgrafschaft und Kurfürstentum Brandenburg\n",
      "Preußen und Deutsches Kaiserreich\n",
      "Weimarer Republik und Groß-Berlin\n",
      "Nationalsozialismus\n",
      "Geteilte Stadt\n",
      "Wiedervereinte Stadt\n",
      "Bevölkerung\n",
      "Einwohnerentwicklung\n",
      "Bevölkerungsgruppen\n",
      "Sprache\n",
      "Religionen und Weltanschauungen\n",
      "Persönlichkeiten\n",
      "Politik\n",
      "Deutsche Hauptstadt\n",
      "Land Berlin\n",
      "Wappen und Flaggen\n",
      "Städtepartnerschaften\n",
      "Polizei und Feuerwehr\n",
      "Wirtschaft\n",
      "Unternehmen\n",
      "Tourismus\n",
      "Gesundheitswirtschaft\n",
      "Messe- & Kongresswirtschaft\n",
      "IT & Kreativwirtschaft\n",
      "Medien\n",
      "Industrie & Technologie\n",
      "Handel & Finanzwirtschaft\n",
      "Infrastruktur\n",
      "Öffentlicher Verkehr\n",
      "Straßenverkehr\n",
      "Fahrradverkehr\n",
      "Flugverkehr\n",
      "Binnenschifffahrt\n",
      "Brücken\n",
      "Wasserversorgung\n",
      "Energieversorgung\n",
      "Kommunikation\n",
      "Wissenschaft und Bildung\n",
      "Hochschulen\n",
      "Forschung\n",
      "Kinderbetreuung und Schulsystem\n",
      "Bibliotheken\n",
      "Kultur\n",
      "Musik\n",
      "Festspiele\n",
      "Theater\n",
      "Museen\n",
      "Architektur\n",
      "Sport\n",
      "Freizeit\n",
      "Küche\n",
      "Berlin in der Kunst\n",
      "Siehe auch\n",
      "Literatur\n",
      "Weblinks\n",
      "Einzelnachweise\n"
     ]
    }
   ],
   "source": [
    "for item in soup.select('.toctext'):\n",
    "    print(item.text)"
   ]
  },
  {
   "cell_type": "code",
   "execution_count": null,
   "metadata": {},
   "outputs": [],
   "source": []
  }
 ],
 "metadata": {
  "kernelspec": {
   "display_name": "Python 3",
   "language": "python",
   "name": "python3"
  },
  "language_info": {
   "codemirror_mode": {
    "name": "ipython",
    "version": 3
   },
   "file_extension": ".py",
   "mimetype": "text/x-python",
   "name": "python",
   "nbconvert_exporter": "python",
   "pygments_lexer": "ipython3",
   "version": "3.10.14"
  }
 },
 "nbformat": 4,
 "nbformat_minor": 2
}
