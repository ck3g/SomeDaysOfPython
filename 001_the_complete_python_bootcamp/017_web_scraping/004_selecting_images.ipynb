{
 "cells": [
  {
   "cell_type": "markdown",
   "metadata": {},
   "source": [
    "# Grabbing images"
   ]
  },
  {
   "cell_type": "code",
   "execution_count": 1,
   "metadata": {},
   "outputs": [],
   "source": [
    "import requests\n",
    "import bs4"
   ]
  },
  {
   "cell_type": "code",
   "execution_count": 2,
   "metadata": {},
   "outputs": [],
   "source": [
    "res = requests.get('https://de.wikipedia.org/wiki/Berlin')\n",
    "soup = bs4.BeautifulSoup(res.text, 'lxml')"
   ]
  },
  {
   "cell_type": "code",
   "execution_count": 7,
   "metadata": {},
   "outputs": [
    {
     "data": {
      "text/plain": [
       "[<img alt=\"Die Landesflagge von Berlin besteht aus zwei äußeren roten Querstreifen und einem breiteren weißen Querstreifen im Innern. In der Mitte des weißen Querstreifens befindet sich ein nach links stehender schwarzer Bär, dessen rote Tatzen und Zunge ausgestreckt sind.\" class=\"mw-file-element\" data-file-height=\"600\" data-file-width=\"1000\" decoding=\"async\" height=\"84\" src=\"//upload.wikimedia.org/wikipedia/commons/thumb/e/ec/Flag_of_Berlin.svg/140px-Flag_of_Berlin.svg.png\" srcset=\"//upload.wikimedia.org/wikipedia/commons/thumb/e/ec/Flag_of_Berlin.svg/210px-Flag_of_Berlin.svg.png 1.5x, //upload.wikimedia.org/wikipedia/commons/thumb/e/ec/Flag_of_Berlin.svg/280px-Flag_of_Berlin.svg.png 2x\" width=\"140\"/>,\n",
       " <img alt=\"Karte\" class=\"mw-file-element\" data-file-height=\"801\" data-file-width=\"592\" decoding=\"async\" height=\"257\" resource=\"/wiki/Datei:Locator_map_Berlin_in_Germany.svg\" src=\"//upload.wikimedia.org/wikipedia/commons/thumb/c/c3/Locator_map_Berlin_in_Germany.svg/190px-Locator_map_Berlin_in_Germany.svg.png\" srcset=\"//upload.wikimedia.org/wikipedia/commons/thumb/c/c3/Locator_map_Berlin_in_Germany.svg/285px-Locator_map_Berlin_in_Germany.svg.png 1.5x, //upload.wikimedia.org/wikipedia/commons/thumb/c/c3/Locator_map_Berlin_in_Germany.svg/380px-Locator_map_Berlin_in_Germany.svg.png 2x\" usemap=\"#ImageMap_ffde6c79cc5be0e1\" width=\"190\"/>,\n",
       " <img alt=\"Das Wappen des Landes Berlin besteht aus einem nach unten spitz zulaufenden Wappenschild, in dem ein nach links stehender schwarzer Bär ist, dessen rote Tatzen und Zunge ausgestreckt sind. Auf dem Schild steht eine goldene Krone mit fünf Blättern und im Reif ist ein Mauerwerk mit geschlossenem Tor.\" class=\"mw-file-element\" data-file-height=\"739\" data-file-width=\"450\" decoding=\"async\" height=\"115\" src=\"//upload.wikimedia.org/wikipedia/commons/thumb/8/8c/DEU_Berlin_COA.svg/70px-DEU_Berlin_COA.svg.png\" srcset=\"//upload.wikimedia.org/wikipedia/commons/thumb/8/8c/DEU_Berlin_COA.svg/105px-DEU_Berlin_COA.svg.png 1.5x, //upload.wikimedia.org/wikipedia/commons/thumb/8/8c/DEU_Berlin_COA.svg/140px-DEU_Berlin_COA.svg.png 2x\" width=\"70\"/>,\n",
       " <img alt=\"Farbfotografie von Berlin in der Vogelperspektive. Im Vordergrund stehen bewaldete Flächen vom Park Tiergarten und die Straße des 17. Juni führt zum Brandenburger Tor. Von links nach rechts sind das Reichstagsgebäude, der Fernsehturm, der Berliner Dom, das Rote Rathaus und das Brandenburger Tor zu sehen.\" class=\"mw-file-element\" data-file-height=\"2300\" data-file-width=\"4496\" decoding=\"async\" height=\"189\" src=\"//upload.wikimedia.org/wikipedia/commons/thumb/8/83/Cityscape_Berlin.jpg/370px-Cityscape_Berlin.jpg\" srcset=\"//upload.wikimedia.org/wikipedia/commons/thumb/8/83/Cityscape_Berlin.jpg/555px-Cityscape_Berlin.jpg 1.5x, //upload.wikimedia.org/wikipedia/commons/thumb/8/83/Cityscape_Berlin.jpg/740px-Cityscape_Berlin.jpg 2x\" width=\"370\"/>]"
      ]
     },
     "execution_count": 7,
     "metadata": {},
     "output_type": "execute_result"
    }
   ],
   "source": [
    "soup.select('.infobox img')"
   ]
  },
  {
   "cell_type": "code",
   "execution_count": 8,
   "metadata": {},
   "outputs": [
    {
     "data": {
      "text/plain": [
       "<img alt=\"Die Landesflagge von Berlin besteht aus zwei äußeren roten Querstreifen und einem breiteren weißen Querstreifen im Innern. In der Mitte des weißen Querstreifens befindet sich ein nach links stehender schwarzer Bär, dessen rote Tatzen und Zunge ausgestreckt sind.\" class=\"mw-file-element\" data-file-height=\"600\" data-file-width=\"1000\" decoding=\"async\" height=\"84\" src=\"//upload.wikimedia.org/wikipedia/commons/thumb/e/ec/Flag_of_Berlin.svg/140px-Flag_of_Berlin.svg.png\" srcset=\"//upload.wikimedia.org/wikipedia/commons/thumb/e/ec/Flag_of_Berlin.svg/210px-Flag_of_Berlin.svg.png 1.5x, //upload.wikimedia.org/wikipedia/commons/thumb/e/ec/Flag_of_Berlin.svg/280px-Flag_of_Berlin.svg.png 2x\" width=\"140\"/>"
      ]
     },
     "execution_count": 8,
     "metadata": {},
     "output_type": "execute_result"
    }
   ],
   "source": [
    "flag = soup.select('.infobox img')[0]\n",
    "flag"
   ]
  },
  {
   "cell_type": "code",
   "execution_count": 9,
   "metadata": {},
   "outputs": [
    {
     "data": {
      "text/plain": [
       "'//upload.wikimedia.org/wikipedia/commons/thumb/e/ec/Flag_of_Berlin.svg/140px-Flag_of_Berlin.svg.png'"
      ]
     },
     "execution_count": 9,
     "metadata": {},
     "output_type": "execute_result"
    }
   ],
   "source": [
    "flag['src']"
   ]
  },
  {
   "cell_type": "markdown",
   "metadata": {},
   "source": [
    "<img src=\"//upload.wikimedia.org/wikipedia/commons/thumb/e/ec/Flag_of_Berlin.svg/140px-Flag_of_Berlin.svg.png\">"
   ]
  },
  {
   "cell_type": "code",
   "execution_count": 10,
   "metadata": {},
   "outputs": [],
   "source": [
    "image_link = requests.get(\"https:\"+flag['src'])"
   ]
  },
  {
   "cell_type": "code",
   "execution_count": 12,
   "metadata": {},
   "outputs": [
    {
     "data": {
      "text/plain": [
       "b'\\x89PNG\\r\\n\\x1a\\n\\x00\\x00\\x00\\rIHDR\\x00\\x00\\x00\\x8c\\x00\\x00\\x00T\\x08\\x03\\x00\\x00\\x00gs/N\\x00\\x00\\x00\\x04gAMA\\x00\\x00\\xb1\\x8f\\x0b\\xfca\\x05\\x00\\x00\\x00 cHRM\\x00\\x00z&\\x00\\x00\\x80\\x84\\x00\\x00\\xfa\\x00\\x00\\x00\\x80\\xe8\\x00\\x00u0\\x00\\x00\\xea`\\x00\\x00:\\x98\\x00\\x00\\x17p\\x9c\\xbaQ<\\x00\\x00\\x02vPLTE\\xe28*\\xe8`U\\xff\\xff\\xff\\xf9\\xf9\\xf9\\x9a\\x9a\\x9aQQQ888???VVV\\x8b\\x8b\\x8b\\x9c\\x9c\\x9c|||\\xe8\\xe8\\xe8\\xeb\\xeb\\xeb\\x88\\x88\\x88\\x84\\x84\\x84ttt   \\x11\\x11\\x11\\x06\\x06\\x06\\x00\\x00\\x00\\x02\\x02\\x02\\x85\\x85\\x85TTTMMM\\xe1\\xe1\\xe1\\x01\\x01\\x01\\xa1\\xa1\\xa1\\xa6\\xa6\\xa6\\x13\\x13\\x13\\x0b\\x0b\\x0bHHHUUU\\xff\\xfe\\xfe\\xfe\\xfb\\xfb\\xfe\\xfe\\xfeBBB\\x1c\\x1c\\x1c\\x1e\\x1e\\x1eXXX\\xaf\\xaf\\xaf\\xfa\\xda\\xd8\\xee\\x8c\\x84\\xe6\\x7fv\\xfd\\xf2\\xf1\\xf8\\xcf\\xcb\\xda\\xda\\xda~~~KKK\\xfc\\xeb\\xe9\\xb5PG2\\x14\\x12\\x02\\x01\\x01\\x8e\\x8e\\x8e\\xebuk\\xf5\\xb8\\xb3\\xe8\\xd8\\xd6\\xd2\\xd2\\xd2$$$lll)\"\"\\x08\\x08\\x08\\xef\\xef\\xef\\xfd\\xf3\\xf2\\xf4\\xb3\\xae\\xe9\\x94\\x8d\\xf0\\x95\\x8d\\xe8\\x97\\x91\\x84gd\\xa9\\xa9\\xa9\\x89\\x89\\x89zzzGGG\\x7f\\x7f\\x7f\\xf6\\xf6\\xf6\\x0c\\x0c\\x0cIIIDDD\\x05\\x05\\x05\\x92\\x92\\x92\\xfd\\xfd\\xfd\\xc2\\xc2\\xc2\\xb4\\xb4\\xb4***\\x8d\\x8d\\x8d\\xe2\\xe2\\xe2\\x81\\x81\\x81LLLCCC,,,\\xbd\\xbd\\xbd\\xcc\\xcc\\xcc+++\\'\\'\\'\\n\\n\\n\\x94\\x94\\x94\\t\\t\\t\\xfc\\xfc\\xfc\\xea\\xea\\xea444{{{\\x1b\\x1b\\x1b\\xf7\\xf7\\xf7mmm\\x04\\x04\\x04\\xe6\\xe6\\xe6\\xb6\\xb6\\xb6\\x1a\\x1a\\x1a111PPP\\x0f\\x0f\\x0f\\xf8\\xcd\\xca\\xf3\\xaf\\xa9\\xf4\\xf4\\xf4FFF;;;WWW\\xff\\xfd\\xfc\\xf5\\xba\\xb5\\xd4`VT%!\\xb7\\xb6\\xb6\\xd1\\xd1\\xd1\\x8f\\x8f\\x8f\\xfa\\xdd\\xdb\\xccg_\\x17\\n\\t\\xf3\\xf3\\xf3\\x15\\x15\\x15\\xfb\\xe4\\xe2.\\x17\\x15JJJ\\x14\\x14\\x14<<<ONN\\xd9\\xd9\\xd9(((\\xd8\\xd8\\xd8\\x17\\x17\\x17\\xe0\\xe0\\xe0\\xd0\\xd0\\xd0!!!\\x9f\\x9f\\x9f\\x07\\x07\\x07}}}\\xbf\\xbf\\xbfhhh\\xf2\\xf2\\xf2\\xcd\\xcd\\xcd777///\\x10\\x10\\x10\\xb9\\xb9\\xb9\\xe4\\xe4\\xe4\\xa8\\xa8\\xa8\\xba\\xba\\xba222gggZZZ\\xf1\\xf1\\xf1...rrrYYY\\x8a\\x8a\\x8a\\x03\\x03\\x03\\xfb\\xfb\\xfb\\x18\\x18\\x18\\xbe\\xbe\\xbe\\xe7\\xe7\\xe7\\x91\\x91\\x91\\x90\\x90\\x90\\x82\\x82\\x82\\xc5\\xc5\\xc5\\x80\\x80\\x80qqq\\xfc\\xed\\xec\\xf3\\xda\\xd8\\xb0\\xb0\\xb0\\xeczpE\\x1d\\x19vvv[[[\\xdd\\xdd\\xdd\\xe2{r\\x06\\x03\\x03aaa###\\xfd\\xef\\xee\\xc4cZ\\xcf\\xcf\\xcf\\xfe\\xf6\\xf6\\xe0\\x9c\\x973/.\\xdf\\xc3\\xc1\\xab\\xab\\xab\\x86\\x86\\x86\\xf6\\xc3\\xbfh\\x1f\\x19___\\xb3\\xb3\\xb3ddd\\xf7\\xc8\\xc4u\\' OOO\\xfa\\xfa\\xfa\\xb1TL\\xff\\xfd\\xfd\\xf2\\xb1\\xaby^\\\\\\xe3\\xe3\\xe3]2S6\\x00\\x00\\x00\\x01bKGD\\x02f\\x0b|d\\x00\\x00\\x00\\x07tIME\\x07\\xe8\\x07\\x18\\x15\\x1f)\\x84KgF\\x00\\x00\\x02\\xe2IDATh\\xde\\xed\\xd9\\xd7S\\x13Q\\x14\\x07\\xe0\\x98 \\x82\\x14QNVI\\x08\\x08Ql\\x18{\\x17\\xbbAB1J,DD\\x04\\x12#\\xd8\\x02\\xf6\\x16\\x144`\\x03\\x1b\\xd8\\xb0\\xa3\\x88\\xbdW\\xec\\xbd\\xfb\\x1f\\xb9\\xe5n\\xc9\\x0c/\\x0c\\x99\\x9c0s\\x7f/\\xb9\\xbb/\\xe7\\x9b\\xcd\\xee=\\xf7\\xee\\xaaT44444444]<\\xdd\\x82(*u\\x10\\xa5\\x93\\x18MH\\xf7\\xd0\\x1ea\\xe1=#\"\\x911Q\\xd1\\xbdbz\\xf7\\x89\\x05\\x00-\\xd3\\xb7\\x1f2&\\x8ee\\xe8\\xf4\\xf1\\x06\\x80\\x84D\\xe8\\x8f\\x81IJ\\x96\\x86\\xc6\\x01,f`\\xca \\xe02\\x18\\x013d\\xe80q\\x98:\\xdc4bd\\x02\\x900\\x81\\xc7\\x8c\\x1a=f\\xec8\\xf1\\x1a\\x8d\\x9f0\\xd14i2\\xc1LA\\xb82S\\x01\\xd2\\xa6\\x91\\xf1\\xf4\\x193g\\xcd\\x9e\\x83\\x88\\ta\\xeb\\xea\\xa5\\xa3\\xb9\\xe6\\xf4y\\x04\\x93\\x81\\x80\\xb1d\\x02\\xc8O1\\x93\\x95\\x9dC0\\x187\\xb0:\\x8c}\\x82\\xe6[\\xa5\\xc3\\x05Z\\xc1b\\xb0``\\x16r\\xa5sm\\x8b\\x84\\xf9w\\xb1xa\\x96\\xa0\\xb4\\x03\\xe3R\\xa1z^\\x8c]\\xb3,_|\\xb0!\\x14\\xa77E.\\'\\xf5\\x0bVH\\x93\\x0c@\\xe1J\\x9cvPT,\\xd4/q\\x80\"&\\xa4\\xde\\xe4\\\\\\xa5c\\xab\\xbb\\x18\\xa5\\x05V\\xa35\\xca\\xd22\\x805k\\x95\\x96uF\\x04\\xcc\\xfa\\r\\xfc\\x8f;#\\xb6\\xbcB\\x89\\xd9\\x18\\xf8\\x1bx\\xd3\\xe6-[\\xb7\\t\\xc3\\xed\\xe6\\x1d.\\x05&>\\xf0\\x98\\x9d\\xbbv\\x83!\\x8e\\x1fz\\xcc\\x95\\nK\\x81\\'\\xf0\\x98={\\xd9\\xc2U\\x1c%\\xba\\xda\\xe7\\xf6\\xdd\\x87\\xb1\\x06\\xde\\xcfU\\xd6{\\x19_\\x8a\\xb2]\\x05\\x10ST\\x06\\xed\\xa6\\x06ewP{\\xa0}\\xcdA\\x94vp\\xe8\\xb0\\x04\\xa8\\xce\\x921Gpz\\x93\\x87\\xc9\\xd7A\\x9d#\\xb1\\xfe\\xa8\\xbdF\\xc6\\x1cC\\xdb\\xc4i\\x8e\\xf3?\\'\\x14\\x7f\\xd3I\\xec\\x1d\\xa5\\xb1A\\xc64\\xa2ooOie\\xcdil\\x8c\\xb5D\\xc6\\x9cA\\xc6\\x9cm8W.a\\x9aP1\\xee\\xf3>\\x13M\\xe3\\x05DL\\xd4E\\xde \\xcf\\xc8\\x97\\xf00\\x1a\\xb2\\x9a\\x91\\x97{\\x97\\xf10\\xe1\\x84pE\\xb4\\\\5\\xa2a\\x9a\\xc5\\xb6\\x9d~M\\xd4\\xb8\\xd10\\xd7EB\\xb6\\xd4\\x9fZ\\xd007DB^\\xab8\\xf2\\xa2a\\xc8l\\xe7\\xbaiiI#\\x98[h\\x98\\xdb|\\xfdL;;\\xbc\\xe3\\xc7\\xd7\\x10\\x1d\\xc6\\xdc\\xbd\\xe7$\\x7f\\x93\\xf6>?\\xf9\\xe5\\n\\x98V\\x04L\\xf2\\x83\\x87\\x85\\x8f\\x9aK\\xb9\\xf2\\x8f\\x853O\\x1c~[\\xd1t\\x14\\x93\\xfa\\xf4\\x19@\\xf1s\\xee\\xad\\xab\\xb8\\xbd\\xf6\\xf2\\xd3\\xf0\\x0b\\x04\\xcc\\xcbW\\xe2\\xe3S!\\x9dk\\xe3\\x0es\\x9c\\x81\\xc7\\xbc~\\xf3\\x96`l\\xc2\\x89\\xa4w\\xef\\x9b\\xb8\\xc3\\x0f8OSmD\\nW\\xbdM8\\xfa\\xf8\\x89\\xa7}F[BX\\xbfT9\\xbe\\x92f\\xf4\\xed;g\\xf9\\xf1\\x13{\\xa5\\'\\xec\\xbf\\x7f\\x01\\xd4\\xd5\\xfb\\xe5\\xc5U\\xe71\\xbf\\xff\\xfc\\xb5\\xfd\\xf3\\xcf\\x86R\\x1d\\\\\\x1f\\xbf\\x82\\xea\\xb3 \\r\\r\\r\\r\\r\\r\\rM\\x17\\xcf\\x7fTV\\xd4A5\\x0c\\x8fE\\x00\\x00\\x00%tEXtdate:create\\x002024-07-24T21:31:41+00:00r\\xeb\\xb7\\xa0\\x00\\x00\\x00%tEXtdate:modify\\x002024-07-24T21:31:41+00:00\\x03\\xb6\\x0f\\x1c\\x00\\x00\\x00\\x00IEND\\xaeB`\\x82'"
      ]
     },
     "execution_count": 12,
     "metadata": {},
     "output_type": "execute_result"
    }
   ],
   "source": [
    "image_link.content"
   ]
  },
  {
   "cell_type": "code",
   "execution_count": 13,
   "metadata": {},
   "outputs": [],
   "source": [
    "f = open('berlin-flag.png', 'wb') # write binary\n",
    "f.write(image_link.content)\n",
    "f.close()"
   ]
  },
  {
   "cell_type": "code",
   "execution_count": null,
   "metadata": {},
   "outputs": [],
   "source": []
  }
 ],
 "metadata": {
  "kernelspec": {
   "display_name": "Python 3",
   "language": "python",
   "name": "python3"
  },
  "language_info": {
   "codemirror_mode": {
    "name": "ipython",
    "version": 3
   },
   "file_extension": ".py",
   "mimetype": "text/x-python",
   "name": "python",
   "nbconvert_exporter": "python",
   "pygments_lexer": "ipython3",
   "version": "3.10.14"
  }
 },
 "nbformat": 4,
 "nbformat_minor": 2
}
