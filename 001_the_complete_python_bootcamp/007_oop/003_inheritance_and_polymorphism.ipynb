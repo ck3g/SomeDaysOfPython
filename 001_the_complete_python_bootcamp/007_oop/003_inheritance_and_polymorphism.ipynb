{
 "cells": [
  {
   "cell_type": "markdown",
   "metadata": {},
   "source": [
    "# Inheritance and Polymorphism"
   ]
  },
  {
   "cell_type": "markdown",
   "metadata": {},
   "source": [
    "## Inheritance"
   ]
  },
  {
   "cell_type": "code",
   "execution_count": 4,
   "metadata": {},
   "outputs": [],
   "source": [
    "class Animal():\n",
    "  def __init__(self):\n",
    "    print(\"Animal created\")\n",
    "\n",
    "  def whoami(self):\n",
    "    print(\"I am an animal\")\n",
    "\n",
    "  def eat(self):\n",
    "    print(\"I am eating\")"
   ]
  },
  {
   "cell_type": "code",
   "execution_count": 6,
   "metadata": {},
   "outputs": [
    {
     "name": "stdout",
     "output_type": "stream",
     "text": [
      "Animal created\n",
      "I am an animal\n",
      "I am eating\n"
     ]
    }
   ],
   "source": [
    "my_animal = Animal()\n",
    "my_animal.whoami()\n",
    "my_animal.eat()"
   ]
  },
  {
   "cell_type": "code",
   "execution_count": 8,
   "metadata": {},
   "outputs": [],
   "source": [
    "class Dog(Animal):\n",
    "  def __init__(self):\n",
    "    Animal.__init__(self)\n",
    "    print(\"Dog created\")"
   ]
  },
  {
   "cell_type": "markdown",
   "metadata": {},
   "source": [
    "child class inherits all methods and attributes from the base class"
   ]
  },
  {
   "cell_type": "code",
   "execution_count": 10,
   "metadata": {},
   "outputs": [
    {
     "name": "stdout",
     "output_type": "stream",
     "text": [
      "Animal created\n",
      "Dog created\n",
      "I am an animal\n",
      "I am eating\n"
     ]
    }
   ],
   "source": [
    "mydog = Dog()\n",
    "mydog.whoami()\n",
    "mydog.eat()"
   ]
  },
  {
   "cell_type": "markdown",
   "metadata": {},
   "source": [
    "child classes can redefine and create its own methods"
   ]
  },
  {
   "cell_type": "code",
   "execution_count": 13,
   "metadata": {},
   "outputs": [],
   "source": [
    "class Dog(Animal):\n",
    "  def __init__(self):\n",
    "    Animal.__init__(self)\n",
    "    print(\"Dog created\")\n",
    "\n",
    "  def whoami(self):\n",
    "    print(\"I am a dog\")\n",
    "\n",
    "  def bark(self):\n",
    "    print(\"WOOF!\")"
   ]
  },
  {
   "cell_type": "code",
   "execution_count": 14,
   "metadata": {},
   "outputs": [
    {
     "name": "stdout",
     "output_type": "stream",
     "text": [
      "Animal created\n",
      "Dog created\n",
      "I am a dog\n",
      "I am eating\n",
      "WOOF!\n"
     ]
    }
   ],
   "source": [
    "mydog = Dog()\n",
    "mydog.whoami()\n",
    "mydog.eat()\n",
    "mydog.bark()"
   ]
  },
  {
   "cell_type": "markdown",
   "metadata": {},
   "source": [
    "## Polymorphism"
   ]
  },
  {
   "cell_type": "code",
   "execution_count": 16,
   "metadata": {},
   "outputs": [],
   "source": [
    "class Dog():\n",
    "  def __init__(self, name):\n",
    "    self.name = name\n",
    "\n",
    "  def speak(self):\n",
    "    return self.name + \" says woof!\""
   ]
  },
  {
   "cell_type": "code",
   "execution_count": 17,
   "metadata": {},
   "outputs": [],
   "source": [
    "class Cat():\n",
    "  def __init__(self, name):\n",
    "    self.name = name\n",
    "\n",
    "  def speak(self):\n",
    "    return self.name + \" says meow!\""
   ]
  },
  {
   "cell_type": "code",
   "execution_count": 18,
   "metadata": {},
   "outputs": [],
   "source": [
    "niko = Dog('Niko')\n",
    "felix = Cat('Felix')"
   ]
  },
  {
   "cell_type": "code",
   "execution_count": 19,
   "metadata": {},
   "outputs": [
    {
     "name": "stdout",
     "output_type": "stream",
     "text": [
      "Niko says woof!\n",
      "Felix says meow!\n"
     ]
    }
   ],
   "source": [
    "print(niko.speak())\n",
    "print(felix.speak())"
   ]
  },
  {
   "cell_type": "code",
   "execution_count": 21,
   "metadata": {},
   "outputs": [
    {
     "name": "stdout",
     "output_type": "stream",
     "text": [
      "<class '__main__.Dog'>\n",
      "Niko says woof!\n",
      "<class '__main__.Cat'>\n",
      "Felix says meow!\n"
     ]
    }
   ],
   "source": [
    "for pet in [niko, felix]:\n",
    "  print(type(pet))\n",
    "  print(pet.speak())"
   ]
  },
  {
   "cell_type": "code",
   "execution_count": 22,
   "metadata": {},
   "outputs": [
    {
     "name": "stdout",
     "output_type": "stream",
     "text": [
      "Niko says woof!\n",
      "Felix says meow!\n"
     ]
    }
   ],
   "source": [
    "def pet_speak(pet):\n",
    "  print(pet.speak())\n",
    "\n",
    "pet_speak(niko)\n",
    "pet_speak(felix)"
   ]
  },
  {
   "cell_type": "markdown",
   "metadata": {},
   "source": [
    "### Abstract classes"
   ]
  },
  {
   "cell_type": "code",
   "execution_count": 24,
   "metadata": {},
   "outputs": [],
   "source": [
    "class Animal():\n",
    "  def __init__(self, name):\n",
    "    self.name = name\n",
    "\n",
    "  def speak(self):\n",
    "    raise NotImplementedError(\"Subclass must implement this abstract method\")"
   ]
  },
  {
   "cell_type": "code",
   "execution_count": 26,
   "metadata": {},
   "outputs": [],
   "source": [
    "class Dog(Animal):\n",
    "  def speak(self):\n",
    "    return self.name + \" says woof!\"\n",
    "  \n",
    "class Cat(Animal):\n",
    "  def speak(self):\n",
    "    return self.name + \" says meow!\""
   ]
  },
  {
   "cell_type": "code",
   "execution_count": 27,
   "metadata": {},
   "outputs": [
    {
     "data": {
      "text/plain": [
       "('Fido says woof!', 'Tom says meow!')"
      ]
     },
     "execution_count": 27,
     "metadata": {},
     "output_type": "execute_result"
    }
   ],
   "source": [
    "fido = Dog('Fido')\n",
    "tom = Cat(\"Tom\")\n",
    "\n",
    "(fido.speak(), tom.speak())"
   ]
  },
  {
   "cell_type": "code",
   "execution_count": null,
   "metadata": {},
   "outputs": [],
   "source": []
  }
 ],
 "metadata": {
  "kernelspec": {
   "display_name": "Python 3",
   "language": "python",
   "name": "python3"
  },
  "language_info": {
   "codemirror_mode": {
    "name": "ipython",
    "version": 3
   },
   "file_extension": ".py",
   "mimetype": "text/x-python",
   "name": "python",
   "nbconvert_exporter": "python",
   "pygments_lexer": "ipython3",
   "version": "3.10.14"
  }
 },
 "nbformat": 4,
 "nbformat_minor": 2
}
